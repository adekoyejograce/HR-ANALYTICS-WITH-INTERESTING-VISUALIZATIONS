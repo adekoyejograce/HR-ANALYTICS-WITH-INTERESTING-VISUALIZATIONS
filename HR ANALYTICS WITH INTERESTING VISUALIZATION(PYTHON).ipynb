{
 "cells": [
  {
   "cell_type": "markdown",
   "id": "388eeed4",
   "metadata": {},
   "source": [
    "# HR ANALYTICS WITH VISUALIZATIONS\n",
    "HR Analytics helps us with interpreting organizational data. It finds the people-related trends in the data and allows the HR Department to take the appropriate steps to keep the organization running smoothly and profitably. Attrition in a corporate setup is one of the complex challenges that the people managers and the HRs personnel have to deal with."
   ]
  },
  {
   "cell_type": "markdown",
   "id": "13ed06c8",
   "metadata": {},
   "source": [
    "#  IMPORTING LIBRARIES"
   ]
  },
  {
   "cell_type": "code",
   "execution_count": 1,
   "id": "f7f91bdd",
   "metadata": {},
   "outputs": [],
   "source": [
    "import pandas as pd\n",
    "import numpy as np\n",
    "import matplotlib.pyplot as plt\n",
    "import seaborn as sns\n",
    "from datetime import datetime\n",
    "%matplotlib inline\n",
    "sns.set_style(\"darkgrid\")"
   ]
  },
  {
   "cell_type": "markdown",
   "id": "854d3525",
   "metadata": {},
   "source": [
    "# DATA CLEANING AND PREPARATIONS"
   ]
  },
  {
   "cell_type": "code",
   "execution_count": 2,
   "id": "b550705b",
   "metadata": {},
   "outputs": [
    {
     "data": {
      "text/html": [
       "<div>\n",
       "<style scoped>\n",
       "    .dataframe tbody tr th:only-of-type {\n",
       "        vertical-align: middle;\n",
       "    }\n",
       "\n",
       "    .dataframe tbody tr th {\n",
       "        vertical-align: top;\n",
       "    }\n",
       "\n",
       "    .dataframe thead th {\n",
       "        text-align: right;\n",
       "    }\n",
       "</style>\n",
       "<table border=\"1\" class=\"dataframe\">\n",
       "  <thead>\n",
       "    <tr style=\"text-align: right;\">\n",
       "      <th></th>\n",
       "      <th>Employee Name</th>\n",
       "      <th>Dept.</th>\n",
       "      <th>Hire Date</th>\n",
       "      <th>Year</th>\n",
       "      <th>Status</th>\n",
       "      <th>Benefits</th>\n",
       "      <th>Compensation</th>\n",
       "      <th>Rating</th>\n",
       "    </tr>\n",
       "  </thead>\n",
       "  <tbody>\n",
       "    <tr>\n",
       "      <th>0</th>\n",
       "      <td>Page, Lisa</td>\n",
       "      <td>ADC</td>\n",
       "      <td>2005-02-28</td>\n",
       "      <td>2005</td>\n",
       "      <td>Full Time</td>\n",
       "      <td>DMR</td>\n",
       "      <td>60981</td>\n",
       "      <td>2</td>\n",
       "    </tr>\n",
       "    <tr>\n",
       "      <th>1</th>\n",
       "      <td>Taylor, Hector</td>\n",
       "      <td>ADC</td>\n",
       "      <td>2017-04-10</td>\n",
       "      <td>2017</td>\n",
       "      <td>Full Time</td>\n",
       "      <td>DM</td>\n",
       "      <td>60915</td>\n",
       "      <td>1</td>\n",
       "    </tr>\n",
       "    <tr>\n",
       "      <th>2</th>\n",
       "      <td>Dawson, Jonathan</td>\n",
       "      <td>ADC</td>\n",
       "      <td>2013-04-23</td>\n",
       "      <td>2013</td>\n",
       "      <td>Contract</td>\n",
       "      <td>NaN</td>\n",
       "      <td>48536</td>\n",
       "      <td>1</td>\n",
       "    </tr>\n",
       "    <tr>\n",
       "      <th>3</th>\n",
       "      <td>Duran, Brian</td>\n",
       "      <td>ADC</td>\n",
       "      <td>2018-10-18</td>\n",
       "      <td>2018</td>\n",
       "      <td>Contract</td>\n",
       "      <td>NaN</td>\n",
       "      <td>57711</td>\n",
       "      <td>3</td>\n",
       "    </tr>\n",
       "    <tr>\n",
       "      <th>4</th>\n",
       "      <td>Weber, Larry</td>\n",
       "      <td>ADC</td>\n",
       "      <td>2014-02-17</td>\n",
       "      <td>2014</td>\n",
       "      <td>Full Time</td>\n",
       "      <td>M</td>\n",
       "      <td>115547</td>\n",
       "      <td>5</td>\n",
       "    </tr>\n",
       "    <tr>\n",
       "      <th>...</th>\n",
       "      <td>...</td>\n",
       "      <td>...</td>\n",
       "      <td>...</td>\n",
       "      <td>...</td>\n",
       "      <td>...</td>\n",
       "      <td>...</td>\n",
       "      <td>...</td>\n",
       "      <td>...</td>\n",
       "    </tr>\n",
       "    <tr>\n",
       "      <th>736</th>\n",
       "      <td>Olsen, Ewan</td>\n",
       "      <td>Research/Development</td>\n",
       "      <td>2013-03-23</td>\n",
       "      <td>2013</td>\n",
       "      <td>Contract</td>\n",
       "      <td>NaN</td>\n",
       "      <td>63477</td>\n",
       "      <td>1</td>\n",
       "    </tr>\n",
       "    <tr>\n",
       "      <th>737</th>\n",
       "      <td>Green, Kim</td>\n",
       "      <td>Research/Development</td>\n",
       "      <td>2006-03-21</td>\n",
       "      <td>2006</td>\n",
       "      <td>Half-Time</td>\n",
       "      <td>DMR</td>\n",
       "      <td>27040</td>\n",
       "      <td>2</td>\n",
       "    </tr>\n",
       "    <tr>\n",
       "      <th>738</th>\n",
       "      <td>Bradshaw, Sheryl</td>\n",
       "      <td>Research/Development</td>\n",
       "      <td>2014-08-28</td>\n",
       "      <td>2014</td>\n",
       "      <td>Contract</td>\n",
       "      <td>NaN</td>\n",
       "      <td>61444</td>\n",
       "      <td>4</td>\n",
       "    </tr>\n",
       "    <tr>\n",
       "      <th>739</th>\n",
       "      <td>Riley, David</td>\n",
       "      <td>Research/Development</td>\n",
       "      <td>2016-09-11</td>\n",
       "      <td>2016</td>\n",
       "      <td>Full Time</td>\n",
       "      <td>DMR</td>\n",
       "      <td>110404</td>\n",
       "      <td>5</td>\n",
       "    </tr>\n",
       "    <tr>\n",
       "      <th>740</th>\n",
       "      <td>Flynn, Melissa</td>\n",
       "      <td>Research/Development</td>\n",
       "      <td>2017-02-17</td>\n",
       "      <td>2017</td>\n",
       "      <td>Contract</td>\n",
       "      <td>NaN</td>\n",
       "      <td>45127</td>\n",
       "      <td>4</td>\n",
       "    </tr>\n",
       "  </tbody>\n",
       "</table>\n",
       "<p>741 rows × 8 columns</p>\n",
       "</div>"
      ],
      "text/plain": [
       "        Employee Name                 Dept.  Hire Date  Year     Status  \\\n",
       "0          Page, Lisa                   ADC 2005-02-28  2005  Full Time   \n",
       "1      Taylor, Hector                   ADC 2017-04-10  2017  Full Time   \n",
       "2    Dawson, Jonathan                   ADC 2013-04-23  2013   Contract   \n",
       "3        Duran, Brian                   ADC 2018-10-18  2018   Contract   \n",
       "4        Weber, Larry                   ADC 2014-02-17  2014  Full Time   \n",
       "..                ...                   ...        ...   ...        ...   \n",
       "736       Olsen, Ewan  Research/Development 2013-03-23  2013   Contract   \n",
       "737        Green, Kim  Research/Development 2006-03-21  2006  Half-Time   \n",
       "738  Bradshaw, Sheryl  Research/Development 2014-08-28  2014   Contract   \n",
       "739      Riley, David  Research/Development 2016-09-11  2016  Full Time   \n",
       "740    Flynn, Melissa  Research/Development 2017-02-17  2017   Contract   \n",
       "\n",
       "    Benefits  Compensation  Rating  \n",
       "0        DMR         60981       2  \n",
       "1         DM         60915       1  \n",
       "2        NaN         48536       1  \n",
       "3        NaN         57711       3  \n",
       "4          M        115547       5  \n",
       "..       ...           ...     ...  \n",
       "736      NaN         63477       1  \n",
       "737      DMR         27040       2  \n",
       "738      NaN         61444       4  \n",
       "739      DMR        110404       5  \n",
       "740      NaN         45127       4  \n",
       "\n",
       "[741 rows x 8 columns]"
      ]
     },
     "execution_count": 2,
     "metadata": {},
     "output_type": "execute_result"
    }
   ],
   "source": [
    "hr =pd.read_excel(\"C:/Users/User/Downloads\\EXCEL/HR_DASHBOARD_DESIGN.xlsx\", sheet_name= \"Data\")\n",
    "hr"
   ]
  },
  {
   "cell_type": "code",
   "execution_count": 3,
   "id": "bf55f573",
   "metadata": {},
   "outputs": [
    {
     "data": {
      "text/plain": [
       "(741, 8)"
      ]
     },
     "execution_count": 3,
     "metadata": {},
     "output_type": "execute_result"
    }
   ],
   "source": [
    "hr.shape #741 rows and 8 columns"
   ]
  },
  {
   "cell_type": "code",
   "execution_count": 4,
   "id": "1addf7a3",
   "metadata": {},
   "outputs": [
    {
     "name": "stdout",
     "output_type": "stream",
     "text": [
      "<class 'pandas.core.frame.DataFrame'>\n",
      "RangeIndex: 741 entries, 0 to 740\n",
      "Data columns (total 8 columns):\n",
      " #   Column         Non-Null Count  Dtype         \n",
      "---  ------         --------------  -----         \n",
      " 0   Employee Name  741 non-null    object        \n",
      " 1   Dept.          741 non-null    object        \n",
      " 2   Hire Date      741 non-null    datetime64[ns]\n",
      " 3   Year           741 non-null    int64         \n",
      " 4   Status         741 non-null    object        \n",
      " 5   Benefits       494 non-null    object        \n",
      " 6   Compensation   741 non-null    int64         \n",
      " 7   Rating         741 non-null    int64         \n",
      "dtypes: datetime64[ns](1), int64(3), object(4)\n",
      "memory usage: 46.4+ KB\n"
     ]
    }
   ],
   "source": [
    "hr.info()"
   ]
  },
  {
   "cell_type": "code",
   "execution_count": 5,
   "id": "68eac712",
   "metadata": {},
   "outputs": [],
   "source": [
    "hr.drop(\"Year\", axis = 1, inplace =True)"
   ]
  },
  {
   "cell_type": "code",
   "execution_count": 6,
   "id": "da5ffa1a",
   "metadata": {},
   "outputs": [
    {
     "data": {
      "text/html": [
       "<div>\n",
       "<style scoped>\n",
       "    .dataframe tbody tr th:only-of-type {\n",
       "        vertical-align: middle;\n",
       "    }\n",
       "\n",
       "    .dataframe tbody tr th {\n",
       "        vertical-align: top;\n",
       "    }\n",
       "\n",
       "    .dataframe thead th {\n",
       "        text-align: right;\n",
       "    }\n",
       "</style>\n",
       "<table border=\"1\" class=\"dataframe\">\n",
       "  <thead>\n",
       "    <tr style=\"text-align: right;\">\n",
       "      <th></th>\n",
       "      <th>Employee Name</th>\n",
       "      <th>Dept.</th>\n",
       "      <th>Hire Date</th>\n",
       "      <th>Status</th>\n",
       "      <th>Benefits</th>\n",
       "      <th>Compensation</th>\n",
       "      <th>Rating</th>\n",
       "    </tr>\n",
       "  </thead>\n",
       "  <tbody>\n",
       "    <tr>\n",
       "      <th>0</th>\n",
       "      <td>Page, Lisa</td>\n",
       "      <td>ADC</td>\n",
       "      <td>2005-02-28</td>\n",
       "      <td>Full Time</td>\n",
       "      <td>DMR</td>\n",
       "      <td>60981</td>\n",
       "      <td>2</td>\n",
       "    </tr>\n",
       "    <tr>\n",
       "      <th>1</th>\n",
       "      <td>Taylor, Hector</td>\n",
       "      <td>ADC</td>\n",
       "      <td>2017-04-10</td>\n",
       "      <td>Full Time</td>\n",
       "      <td>DM</td>\n",
       "      <td>60915</td>\n",
       "      <td>1</td>\n",
       "    </tr>\n",
       "    <tr>\n",
       "      <th>2</th>\n",
       "      <td>Dawson, Jonathan</td>\n",
       "      <td>ADC</td>\n",
       "      <td>2013-04-23</td>\n",
       "      <td>Contract</td>\n",
       "      <td>NaN</td>\n",
       "      <td>48536</td>\n",
       "      <td>1</td>\n",
       "    </tr>\n",
       "    <tr>\n",
       "      <th>3</th>\n",
       "      <td>Duran, Brian</td>\n",
       "      <td>ADC</td>\n",
       "      <td>2018-10-18</td>\n",
       "      <td>Contract</td>\n",
       "      <td>NaN</td>\n",
       "      <td>57711</td>\n",
       "      <td>3</td>\n",
       "    </tr>\n",
       "    <tr>\n",
       "      <th>4</th>\n",
       "      <td>Weber, Larry</td>\n",
       "      <td>ADC</td>\n",
       "      <td>2014-02-17</td>\n",
       "      <td>Full Time</td>\n",
       "      <td>M</td>\n",
       "      <td>115547</td>\n",
       "      <td>5</td>\n",
       "    </tr>\n",
       "    <tr>\n",
       "      <th>...</th>\n",
       "      <td>...</td>\n",
       "      <td>...</td>\n",
       "      <td>...</td>\n",
       "      <td>...</td>\n",
       "      <td>...</td>\n",
       "      <td>...</td>\n",
       "      <td>...</td>\n",
       "    </tr>\n",
       "    <tr>\n",
       "      <th>736</th>\n",
       "      <td>Olsen, Ewan</td>\n",
       "      <td>Research/Development</td>\n",
       "      <td>2013-03-23</td>\n",
       "      <td>Contract</td>\n",
       "      <td>NaN</td>\n",
       "      <td>63477</td>\n",
       "      <td>1</td>\n",
       "    </tr>\n",
       "    <tr>\n",
       "      <th>737</th>\n",
       "      <td>Green, Kim</td>\n",
       "      <td>Research/Development</td>\n",
       "      <td>2006-03-21</td>\n",
       "      <td>Half-Time</td>\n",
       "      <td>DMR</td>\n",
       "      <td>27040</td>\n",
       "      <td>2</td>\n",
       "    </tr>\n",
       "    <tr>\n",
       "      <th>738</th>\n",
       "      <td>Bradshaw, Sheryl</td>\n",
       "      <td>Research/Development</td>\n",
       "      <td>2014-08-28</td>\n",
       "      <td>Contract</td>\n",
       "      <td>NaN</td>\n",
       "      <td>61444</td>\n",
       "      <td>4</td>\n",
       "    </tr>\n",
       "    <tr>\n",
       "      <th>739</th>\n",
       "      <td>Riley, David</td>\n",
       "      <td>Research/Development</td>\n",
       "      <td>2016-09-11</td>\n",
       "      <td>Full Time</td>\n",
       "      <td>DMR</td>\n",
       "      <td>110404</td>\n",
       "      <td>5</td>\n",
       "    </tr>\n",
       "    <tr>\n",
       "      <th>740</th>\n",
       "      <td>Flynn, Melissa</td>\n",
       "      <td>Research/Development</td>\n",
       "      <td>2017-02-17</td>\n",
       "      <td>Contract</td>\n",
       "      <td>NaN</td>\n",
       "      <td>45127</td>\n",
       "      <td>4</td>\n",
       "    </tr>\n",
       "  </tbody>\n",
       "</table>\n",
       "<p>741 rows × 7 columns</p>\n",
       "</div>"
      ],
      "text/plain": [
       "        Employee Name                 Dept.  Hire Date     Status Benefits  \\\n",
       "0          Page, Lisa                   ADC 2005-02-28  Full Time      DMR   \n",
       "1      Taylor, Hector                   ADC 2017-04-10  Full Time       DM   \n",
       "2    Dawson, Jonathan                   ADC 2013-04-23   Contract      NaN   \n",
       "3        Duran, Brian                   ADC 2018-10-18   Contract      NaN   \n",
       "4        Weber, Larry                   ADC 2014-02-17  Full Time        M   \n",
       "..                ...                   ...        ...        ...      ...   \n",
       "736       Olsen, Ewan  Research/Development 2013-03-23   Contract      NaN   \n",
       "737        Green, Kim  Research/Development 2006-03-21  Half-Time      DMR   \n",
       "738  Bradshaw, Sheryl  Research/Development 2014-08-28   Contract      NaN   \n",
       "739      Riley, David  Research/Development 2016-09-11  Full Time      DMR   \n",
       "740    Flynn, Melissa  Research/Development 2017-02-17   Contract      NaN   \n",
       "\n",
       "     Compensation  Rating  \n",
       "0           60981       2  \n",
       "1           60915       1  \n",
       "2           48536       1  \n",
       "3           57711       3  \n",
       "4          115547       5  \n",
       "..            ...     ...  \n",
       "736         63477       1  \n",
       "737         27040       2  \n",
       "738         61444       4  \n",
       "739        110404       5  \n",
       "740         45127       4  \n",
       "\n",
       "[741 rows x 7 columns]"
      ]
     },
     "execution_count": 6,
     "metadata": {},
     "output_type": "execute_result"
    }
   ],
   "source": [
    "hr"
   ]
  },
  {
   "cell_type": "code",
   "execution_count": 7,
   "id": "0f6da914",
   "metadata": {
    "scrolled": true
   },
   "outputs": [
    {
     "data": {
      "text/html": [
       "<div>\n",
       "<style scoped>\n",
       "    .dataframe tbody tr th:only-of-type {\n",
       "        vertical-align: middle;\n",
       "    }\n",
       "\n",
       "    .dataframe tbody tr th {\n",
       "        vertical-align: top;\n",
       "    }\n",
       "\n",
       "    .dataframe thead th {\n",
       "        text-align: right;\n",
       "    }\n",
       "</style>\n",
       "<table border=\"1\" class=\"dataframe\">\n",
       "  <thead>\n",
       "    <tr style=\"text-align: right;\">\n",
       "      <th></th>\n",
       "      <th>Hire Date</th>\n",
       "    </tr>\n",
       "  </thead>\n",
       "  <tbody>\n",
       "    <tr>\n",
       "      <th>0</th>\n",
       "      <td>2005</td>\n",
       "    </tr>\n",
       "    <tr>\n",
       "      <th>1</th>\n",
       "      <td>2017</td>\n",
       "    </tr>\n",
       "    <tr>\n",
       "      <th>2</th>\n",
       "      <td>2013</td>\n",
       "    </tr>\n",
       "    <tr>\n",
       "      <th>3</th>\n",
       "      <td>2018</td>\n",
       "    </tr>\n",
       "    <tr>\n",
       "      <th>4</th>\n",
       "      <td>2014</td>\n",
       "    </tr>\n",
       "    <tr>\n",
       "      <th>...</th>\n",
       "      <td>...</td>\n",
       "    </tr>\n",
       "    <tr>\n",
       "      <th>736</th>\n",
       "      <td>2013</td>\n",
       "    </tr>\n",
       "    <tr>\n",
       "      <th>737</th>\n",
       "      <td>2006</td>\n",
       "    </tr>\n",
       "    <tr>\n",
       "      <th>738</th>\n",
       "      <td>2014</td>\n",
       "    </tr>\n",
       "    <tr>\n",
       "      <th>739</th>\n",
       "      <td>2016</td>\n",
       "    </tr>\n",
       "    <tr>\n",
       "      <th>740</th>\n",
       "      <td>2017</td>\n",
       "    </tr>\n",
       "  </tbody>\n",
       "</table>\n",
       "<p>741 rows × 1 columns</p>\n",
       "</div>"
      ],
      "text/plain": [
       "     Hire Date\n",
       "0         2005\n",
       "1         2017\n",
       "2         2013\n",
       "3         2018\n",
       "4         2014\n",
       "..         ...\n",
       "736       2013\n",
       "737       2006\n",
       "738       2014\n",
       "739       2016\n",
       "740       2017\n",
       "\n",
       "[741 rows x 1 columns]"
      ]
     },
     "execution_count": 7,
     "metadata": {},
     "output_type": "execute_result"
    }
   ],
   "source": [
    "Hire_Year= hr[\"Hire Date\"].dt.year\n",
    "Hire_Year= Hire_Year.to_frame()\n",
    "Hire_Year"
   ]
  },
  {
   "cell_type": "code",
   "execution_count": 8,
   "id": "2d7b1d11",
   "metadata": {},
   "outputs": [],
   "source": [
    "Hire_Year= Hire_Year.rename(columns={\"Hire Date\": \"Hire Year\"})"
   ]
  },
  {
   "cell_type": "code",
   "execution_count": 9,
   "id": "b35ebcae",
   "metadata": {
    "scrolled": true
   },
   "outputs": [
    {
     "data": {
      "text/html": [
       "<div>\n",
       "<style scoped>\n",
       "    .dataframe tbody tr th:only-of-type {\n",
       "        vertical-align: middle;\n",
       "    }\n",
       "\n",
       "    .dataframe tbody tr th {\n",
       "        vertical-align: top;\n",
       "    }\n",
       "\n",
       "    .dataframe thead th {\n",
       "        text-align: right;\n",
       "    }\n",
       "</style>\n",
       "<table border=\"1\" class=\"dataframe\">\n",
       "  <thead>\n",
       "    <tr style=\"text-align: right;\">\n",
       "      <th></th>\n",
       "      <th>Employee Name</th>\n",
       "      <th>Dept.</th>\n",
       "      <th>Hire Date</th>\n",
       "      <th>Status</th>\n",
       "      <th>Benefits</th>\n",
       "      <th>Compensation</th>\n",
       "      <th>Rating</th>\n",
       "      <th>Hire Year</th>\n",
       "    </tr>\n",
       "  </thead>\n",
       "  <tbody>\n",
       "    <tr>\n",
       "      <th>0</th>\n",
       "      <td>Page, Lisa</td>\n",
       "      <td>ADC</td>\n",
       "      <td>2005-02-28</td>\n",
       "      <td>Full Time</td>\n",
       "      <td>DMR</td>\n",
       "      <td>60981</td>\n",
       "      <td>2</td>\n",
       "      <td>2005</td>\n",
       "    </tr>\n",
       "    <tr>\n",
       "      <th>1</th>\n",
       "      <td>Taylor, Hector</td>\n",
       "      <td>ADC</td>\n",
       "      <td>2017-04-10</td>\n",
       "      <td>Full Time</td>\n",
       "      <td>DM</td>\n",
       "      <td>60915</td>\n",
       "      <td>1</td>\n",
       "      <td>2017</td>\n",
       "    </tr>\n",
       "    <tr>\n",
       "      <th>2</th>\n",
       "      <td>Dawson, Jonathan</td>\n",
       "      <td>ADC</td>\n",
       "      <td>2013-04-23</td>\n",
       "      <td>Contract</td>\n",
       "      <td>NaN</td>\n",
       "      <td>48536</td>\n",
       "      <td>1</td>\n",
       "      <td>2013</td>\n",
       "    </tr>\n",
       "    <tr>\n",
       "      <th>3</th>\n",
       "      <td>Duran, Brian</td>\n",
       "      <td>ADC</td>\n",
       "      <td>2018-10-18</td>\n",
       "      <td>Contract</td>\n",
       "      <td>NaN</td>\n",
       "      <td>57711</td>\n",
       "      <td>3</td>\n",
       "      <td>2018</td>\n",
       "    </tr>\n",
       "    <tr>\n",
       "      <th>4</th>\n",
       "      <td>Weber, Larry</td>\n",
       "      <td>ADC</td>\n",
       "      <td>2014-02-17</td>\n",
       "      <td>Full Time</td>\n",
       "      <td>M</td>\n",
       "      <td>115547</td>\n",
       "      <td>5</td>\n",
       "      <td>2014</td>\n",
       "    </tr>\n",
       "  </tbody>\n",
       "</table>\n",
       "</div>"
      ],
      "text/plain": [
       "      Employee Name Dept.  Hire Date     Status Benefits  Compensation  \\\n",
       "0        Page, Lisa   ADC 2005-02-28  Full Time      DMR         60981   \n",
       "1    Taylor, Hector   ADC 2017-04-10  Full Time       DM         60915   \n",
       "2  Dawson, Jonathan   ADC 2013-04-23   Contract      NaN         48536   \n",
       "3      Duran, Brian   ADC 2018-10-18   Contract      NaN         57711   \n",
       "4      Weber, Larry   ADC 2014-02-17  Full Time        M        115547   \n",
       "\n",
       "   Rating  Hire Year  \n",
       "0       2       2005  \n",
       "1       1       2017  \n",
       "2       1       2013  \n",
       "3       3       2018  \n",
       "4       5       2014  "
      ]
     },
     "execution_count": 9,
     "metadata": {},
     "output_type": "execute_result"
    }
   ],
   "source": [
    "hr= pd.concat([hr, Hire_Year], axis = 1)\n",
    "hr.head()"
   ]
  },
  {
   "cell_type": "code",
   "execution_count": 10,
   "id": "da58129b",
   "metadata": {},
   "outputs": [
    {
     "data": {
      "text/plain": [
       "Employee Name      0\n",
       "Dept.              0\n",
       "Hire Date          0\n",
       "Status             0\n",
       "Benefits         247\n",
       "Compensation       0\n",
       "Rating             0\n",
       "Hire Year          0\n",
       "dtype: int64"
      ]
     },
     "execution_count": 10,
     "metadata": {},
     "output_type": "execute_result"
    }
   ],
   "source": [
    "hr.isna().sum()"
   ]
  },
  {
   "cell_type": "code",
   "execution_count": 11,
   "id": "22d57f80",
   "metadata": {},
   "outputs": [
    {
     "data": {
      "text/plain": [
       "DMR    169\n",
       "R      135\n",
       "DM      65\n",
       "M       62\n",
       "D       62\n",
       "DR       1\n",
       "Name: Benefits, dtype: int64"
      ]
     },
     "execution_count": 11,
     "metadata": {},
     "output_type": "execute_result"
    }
   ],
   "source": [
    "hr[\"Benefits\"].value_counts()"
   ]
  },
  {
   "cell_type": "code",
   "execution_count": 12,
   "id": "bd3948f7",
   "metadata": {},
   "outputs": [],
   "source": [
    "hr[\"Benefits\"]= hr[\"Benefits\"].fillna(\"DMR\")#replace the null values with the mode"
   ]
  },
  {
   "cell_type": "code",
   "execution_count": 13,
   "id": "0b11d42d",
   "metadata": {},
   "outputs": [
    {
     "data": {
      "text/plain": [
       "Employee Name    0\n",
       "Dept.            0\n",
       "Hire Date        0\n",
       "Status           0\n",
       "Benefits         0\n",
       "Compensation     0\n",
       "Rating           0\n",
       "Hire Year        0\n",
       "dtype: int64"
      ]
     },
     "execution_count": 13,
     "metadata": {},
     "output_type": "execute_result"
    }
   ],
   "source": [
    "hr.isna().sum()"
   ]
  },
  {
   "cell_type": "code",
   "execution_count": 14,
   "id": "003073ad",
   "metadata": {},
   "outputs": [],
   "source": [
    "hr[\"Employee Name\"]= hr[\"Employee Name\"].str.replace(\",\", \"\")"
   ]
  },
  {
   "cell_type": "code",
   "execution_count": 15,
   "id": "e1089ab8",
   "metadata": {
    "scrolled": true
   },
   "outputs": [
    {
     "data": {
      "text/html": [
       "<div>\n",
       "<style scoped>\n",
       "    .dataframe tbody tr th:only-of-type {\n",
       "        vertical-align: middle;\n",
       "    }\n",
       "\n",
       "    .dataframe tbody tr th {\n",
       "        vertical-align: top;\n",
       "    }\n",
       "\n",
       "    .dataframe thead th {\n",
       "        text-align: right;\n",
       "    }\n",
       "</style>\n",
       "<table border=\"1\" class=\"dataframe\">\n",
       "  <thead>\n",
       "    <tr style=\"text-align: right;\">\n",
       "      <th></th>\n",
       "      <th>Employee Name</th>\n",
       "      <th>Dept.</th>\n",
       "      <th>Hire Date</th>\n",
       "      <th>Status</th>\n",
       "      <th>Benefits</th>\n",
       "      <th>Compensation</th>\n",
       "      <th>Rating</th>\n",
       "      <th>Hire Year</th>\n",
       "    </tr>\n",
       "  </thead>\n",
       "  <tbody>\n",
       "    <tr>\n",
       "      <th>0</th>\n",
       "      <td>Page Lisa</td>\n",
       "      <td>ADC</td>\n",
       "      <td>2005-02-28</td>\n",
       "      <td>Full Time</td>\n",
       "      <td>DMR</td>\n",
       "      <td>60981</td>\n",
       "      <td>2</td>\n",
       "      <td>2005</td>\n",
       "    </tr>\n",
       "    <tr>\n",
       "      <th>1</th>\n",
       "      <td>Taylor Hector</td>\n",
       "      <td>ADC</td>\n",
       "      <td>2017-04-10</td>\n",
       "      <td>Full Time</td>\n",
       "      <td>DM</td>\n",
       "      <td>60915</td>\n",
       "      <td>1</td>\n",
       "      <td>2017</td>\n",
       "    </tr>\n",
       "    <tr>\n",
       "      <th>2</th>\n",
       "      <td>Dawson Jonathan</td>\n",
       "      <td>ADC</td>\n",
       "      <td>2013-04-23</td>\n",
       "      <td>Contract</td>\n",
       "      <td>DMR</td>\n",
       "      <td>48536</td>\n",
       "      <td>1</td>\n",
       "      <td>2013</td>\n",
       "    </tr>\n",
       "    <tr>\n",
       "      <th>3</th>\n",
       "      <td>Duran Brian</td>\n",
       "      <td>ADC</td>\n",
       "      <td>2018-10-18</td>\n",
       "      <td>Contract</td>\n",
       "      <td>DMR</td>\n",
       "      <td>57711</td>\n",
       "      <td>3</td>\n",
       "      <td>2018</td>\n",
       "    </tr>\n",
       "    <tr>\n",
       "      <th>4</th>\n",
       "      <td>Weber Larry</td>\n",
       "      <td>ADC</td>\n",
       "      <td>2014-02-17</td>\n",
       "      <td>Full Time</td>\n",
       "      <td>M</td>\n",
       "      <td>115547</td>\n",
       "      <td>5</td>\n",
       "      <td>2014</td>\n",
       "    </tr>\n",
       "  </tbody>\n",
       "</table>\n",
       "</div>"
      ],
      "text/plain": [
       "     Employee Name Dept.  Hire Date     Status Benefits  Compensation  Rating  \\\n",
       "0        Page Lisa   ADC 2005-02-28  Full Time      DMR         60981       2   \n",
       "1    Taylor Hector   ADC 2017-04-10  Full Time       DM         60915       1   \n",
       "2  Dawson Jonathan   ADC 2013-04-23   Contract      DMR         48536       1   \n",
       "3      Duran Brian   ADC 2018-10-18   Contract      DMR         57711       3   \n",
       "4      Weber Larry   ADC 2014-02-17  Full Time        M        115547       5   \n",
       "\n",
       "   Hire Year  \n",
       "0       2005  \n",
       "1       2017  \n",
       "2       2013  \n",
       "3       2018  \n",
       "4       2014  "
      ]
     },
     "execution_count": 15,
     "metadata": {},
     "output_type": "execute_result"
    }
   ],
   "source": [
    "hr.head()"
   ]
  },
  {
   "cell_type": "markdown",
   "id": "59f04b0f",
   "metadata": {},
   "source": [
    "# DATA EXPLORATION"
   ]
  },
  {
   "cell_type": "code",
   "execution_count": 16,
   "id": "c58d4b9b",
   "metadata": {},
   "outputs": [
    {
     "name": "stdout",
     "output_type": "stream",
     "text": [
      "The total Salary is 47,928,375\n"
     ]
    }
   ],
   "source": [
    "# CALCULATE THE TOTAL SALARY\n",
    "Total_Salary= hr[\"Compensation\"].sum()\n",
    "print(\"The total Salary is {:,}\".format(Total_Salary))"
   ]
  },
  {
   "cell_type": "code",
   "execution_count": 17,
   "id": "1074c10a",
   "metadata": {},
   "outputs": [
    {
     "name": "stdout",
     "output_type": "stream",
     "text": [
      "The average Salary is 64,681\n"
     ]
    }
   ],
   "source": [
    "#CALCULATE THE AVERAGE SALARY WITH NUMPY\n",
    "avg= np.average(hr[\"Compensation\"])\n",
    "print(\"The average Salary is {:,}\". format(round(avg)))"
   ]
  },
  {
   "cell_type": "code",
   "execution_count": 18,
   "id": "e017cb78",
   "metadata": {},
   "outputs": [
    {
     "name": "stdout",
     "output_type": "stream",
     "text": [
      "The Average Salary is 64,681\n"
     ]
    }
   ],
   "source": [
    "#CALCULATE AVERAGE SALARY\n",
    "Average_Salary = sum(hr[\"Compensation\"])/len(hr[\"Compensation\"])\n",
    "print('The Average Salary is {:,}'.format(round(Average_Salary)))"
   ]
  },
  {
   "cell_type": "code",
   "execution_count": 19,
   "id": "40d69fba",
   "metadata": {},
   "outputs": [
    {
     "name": "stdout",
     "output_type": "stream",
     "text": [
      "The Minimum Salary is 21,001\n"
     ]
    }
   ],
   "source": [
    "#CALCULATE THE MIN SALARY\n",
    "Min_Salary = hr[\"Compensation\"].min()\n",
    "print(\"The Minimum Salary is {:,}\".format(Min_Salary))"
   ]
  },
  {
   "cell_type": "code",
   "execution_count": 20,
   "id": "1603abd5",
   "metadata": {},
   "outputs": [
    {
     "name": "stdout",
     "output_type": "stream",
     "text": [
      "The Maximum Salary is 126,627\n"
     ]
    }
   ],
   "source": [
    "#CALCULATE THE MAX SALARY\n",
    "Max_Salary= hr[\"Compensation\"].max()\n",
    "print(\"The Maximum Salary is {:,}\".format(Max_Salary))"
   ]
  },
  {
   "cell_type": "code",
   "execution_count": 21,
   "id": "fa20ca8e",
   "metadata": {},
   "outputs": [
    {
     "name": "stdout",
     "output_type": "stream",
     "text": [
      "The Total no of Staff is 741\n"
     ]
    }
   ],
   "source": [
    "#CALCULATE THE TOTAL NO OF STAFF\n",
    "Total_Staff = hr[\"Employee Name\"].count()\n",
    "print(\"The Total no of Staff is {}\".format(Total_Staff))"
   ]
  },
  {
   "cell_type": "markdown",
   "id": "2f47c054",
   "metadata": {},
   "source": [
    "# CALCULATE THE NO OF STAFFS BY EMPLOYMENT TYPE"
   ]
  },
  {
   "cell_type": "code",
   "execution_count": 22,
   "id": "6612ff02",
   "metadata": {},
   "outputs": [
    {
     "data": {
      "image/png": "[encoded data removed]",
      "text/plain": [
       "<Figure size 640x480 with 1 Axes>"
      ]
     },
     "metadata": {},
     "output_type": "display_data"
    }
   ],
   "source": [
    "plt.title(\"Percentage of Staff by Employment Type\")\n",
    "hr[\"Status\"].value_counts().plot(kind=\"pie\", autopct=\"%1.0f%%\");"
   ]
  },
  {
   "cell_type": "markdown",
   "id": "05992fa4",
   "metadata": {},
   "source": [
    "It is concluded taht half of the employees(50%) works full time."
   ]
  },
  {
   "cell_type": "markdown",
   "id": "ef64e3f7",
   "metadata": {},
   "source": [
    "# CALCULATE THE TOTAL SALARY BY EMPLOYEE TYPE"
   ]
  },
  {
   "cell_type": "code",
   "execution_count": 23,
   "id": "17c78674",
   "metadata": {},
   "outputs": [
    {
     "data": {
      "text/html": [
       "<div>\n",
       "<style scoped>\n",
       "    .dataframe tbody tr th:only-of-type {\n",
       "        vertical-align: middle;\n",
       "    }\n",
       "\n",
       "    .dataframe tbody tr th {\n",
       "        vertical-align: top;\n",
       "    }\n",
       "\n",
       "    .dataframe thead th {\n",
       "        text-align: right;\n",
       "    }\n",
       "</style>\n",
       "<table border=\"1\" class=\"dataframe\">\n",
       "  <thead>\n",
       "    <tr style=\"text-align: right;\">\n",
       "      <th></th>\n",
       "      <th>Employee Name</th>\n",
       "      <th>Dept.</th>\n",
       "      <th>Hire Date</th>\n",
       "      <th>Status</th>\n",
       "      <th>Benefits</th>\n",
       "      <th>Compensation</th>\n",
       "      <th>Rating</th>\n",
       "      <th>Hire Year</th>\n",
       "    </tr>\n",
       "  </thead>\n",
       "  <tbody>\n",
       "    <tr>\n",
       "      <th>0</th>\n",
       "      <td>Page Lisa</td>\n",
       "      <td>ADC</td>\n",
       "      <td>2005-02-28</td>\n",
       "      <td>Full Time</td>\n",
       "      <td>DMR</td>\n",
       "      <td>60981</td>\n",
       "      <td>2</td>\n",
       "      <td>2005</td>\n",
       "    </tr>\n",
       "    <tr>\n",
       "      <th>1</th>\n",
       "      <td>Taylor Hector</td>\n",
       "      <td>ADC</td>\n",
       "      <td>2017-04-10</td>\n",
       "      <td>Full Time</td>\n",
       "      <td>DM</td>\n",
       "      <td>60915</td>\n",
       "      <td>1</td>\n",
       "      <td>2017</td>\n",
       "    </tr>\n",
       "    <tr>\n",
       "      <th>2</th>\n",
       "      <td>Dawson Jonathan</td>\n",
       "      <td>ADC</td>\n",
       "      <td>2013-04-23</td>\n",
       "      <td>Contract</td>\n",
       "      <td>DMR</td>\n",
       "      <td>48536</td>\n",
       "      <td>1</td>\n",
       "      <td>2013</td>\n",
       "    </tr>\n",
       "    <tr>\n",
       "      <th>3</th>\n",
       "      <td>Duran Brian</td>\n",
       "      <td>ADC</td>\n",
       "      <td>2018-10-18</td>\n",
       "      <td>Contract</td>\n",
       "      <td>DMR</td>\n",
       "      <td>57711</td>\n",
       "      <td>3</td>\n",
       "      <td>2018</td>\n",
       "    </tr>\n",
       "    <tr>\n",
       "      <th>4</th>\n",
       "      <td>Weber Larry</td>\n",
       "      <td>ADC</td>\n",
       "      <td>2014-02-17</td>\n",
       "      <td>Full Time</td>\n",
       "      <td>M</td>\n",
       "      <td>115547</td>\n",
       "      <td>5</td>\n",
       "      <td>2014</td>\n",
       "    </tr>\n",
       "  </tbody>\n",
       "</table>\n",
       "</div>"
      ],
      "text/plain": [
       "     Employee Name Dept.  Hire Date     Status Benefits  Compensation  Rating  \\\n",
       "0        Page Lisa   ADC 2005-02-28  Full Time      DMR         60981       2   \n",
       "1    Taylor Hector   ADC 2017-04-10  Full Time       DM         60915       1   \n",
       "2  Dawson Jonathan   ADC 2013-04-23   Contract      DMR         48536       1   \n",
       "3      Duran Brian   ADC 2018-10-18   Contract      DMR         57711       3   \n",
       "4      Weber Larry   ADC 2014-02-17  Full Time        M        115547       5   \n",
       "\n",
       "   Hire Year  \n",
       "0       2005  \n",
       "1       2017  \n",
       "2       2013  \n",
       "3       2018  \n",
       "4       2014  "
      ]
     },
     "execution_count": 23,
     "metadata": {},
     "output_type": "execute_result"
    }
   ],
   "source": [
    "hr.head()"
   ]
  },
  {
   "cell_type": "code",
   "execution_count": 24,
   "id": "677ef657",
   "metadata": {
    "scrolled": true
   },
   "outputs": [
    {
     "data": {
      "text/html": [
       "<div>\n",
       "<style scoped>\n",
       "    .dataframe tbody tr th:only-of-type {\n",
       "        vertical-align: middle;\n",
       "    }\n",
       "\n",
       "    .dataframe tbody tr th {\n",
       "        vertical-align: top;\n",
       "    }\n",
       "\n",
       "    .dataframe thead th {\n",
       "        text-align: right;\n",
       "    }\n",
       "</style>\n",
       "<table border=\"1\" class=\"dataframe\">\n",
       "  <thead>\n",
       "    <tr style=\"text-align: right;\">\n",
       "      <th></th>\n",
       "      <th>Status</th>\n",
       "      <th>Compensation</th>\n",
       "    </tr>\n",
       "  </thead>\n",
       "  <tbody>\n",
       "    <tr>\n",
       "      <th>0</th>\n",
       "      <td>Full Time</td>\n",
       "      <td>60981</td>\n",
       "    </tr>\n",
       "    <tr>\n",
       "      <th>1</th>\n",
       "      <td>Full Time</td>\n",
       "      <td>60915</td>\n",
       "    </tr>\n",
       "    <tr>\n",
       "      <th>2</th>\n",
       "      <td>Contract</td>\n",
       "      <td>48536</td>\n",
       "    </tr>\n",
       "    <tr>\n",
       "      <th>3</th>\n",
       "      <td>Contract</td>\n",
       "      <td>57711</td>\n",
       "    </tr>\n",
       "    <tr>\n",
       "      <th>4</th>\n",
       "      <td>Full Time</td>\n",
       "      <td>115547</td>\n",
       "    </tr>\n",
       "    <tr>\n",
       "      <th>...</th>\n",
       "      <td>...</td>\n",
       "      <td>...</td>\n",
       "    </tr>\n",
       "    <tr>\n",
       "      <th>736</th>\n",
       "      <td>Contract</td>\n",
       "      <td>63477</td>\n",
       "    </tr>\n",
       "    <tr>\n",
       "      <th>737</th>\n",
       "      <td>Half-Time</td>\n",
       "      <td>27040</td>\n",
       "    </tr>\n",
       "    <tr>\n",
       "      <th>738</th>\n",
       "      <td>Contract</td>\n",
       "      <td>61444</td>\n",
       "    </tr>\n",
       "    <tr>\n",
       "      <th>739</th>\n",
       "      <td>Full Time</td>\n",
       "      <td>110404</td>\n",
       "    </tr>\n",
       "    <tr>\n",
       "      <th>740</th>\n",
       "      <td>Contract</td>\n",
       "      <td>45127</td>\n",
       "    </tr>\n",
       "  </tbody>\n",
       "</table>\n",
       "<p>741 rows × 2 columns</p>\n",
       "</div>"
      ],
      "text/plain": [
       "        Status  Compensation\n",
       "0    Full Time         60981\n",
       "1    Full Time         60915\n",
       "2     Contract         48536\n",
       "3     Contract         57711\n",
       "4    Full Time        115547\n",
       "..         ...           ...\n",
       "736   Contract         63477\n",
       "737  Half-Time         27040\n",
       "738   Contract         61444\n",
       "739  Full Time        110404\n",
       "740   Contract         45127\n",
       "\n",
       "[741 rows x 2 columns]"
      ]
     },
     "execution_count": 24,
     "metadata": {},
     "output_type": "execute_result"
    }
   ],
   "source": [
    "status_comp= hr[[\"Status\", \"Compensation\"]]\n",
    "status_comp"
   ]
  },
  {
   "cell_type": "code",
   "execution_count": 25,
   "id": "b3a8486f",
   "metadata": {},
   "outputs": [
    {
     "data": {
      "image/png": "[encoded data removed]",
      "text/plain": [
       "<Figure size 640x480 with 1 Axes>"
      ]
     },
     "metadata": {},
     "output_type": "display_data"
    }
   ],
   "source": [
    "plt.title(\"Total Salary by Employee Type\")\n",
    "sns.barplot(x=status_comp[\"Status\"], y= status_comp[\"Compensation\"], estimator= np.sum);"
   ]
  },
  {
   "cell_type": "markdown",
   "id": "9bb6079e",
   "metadata": {},
   "source": [
    "The Full TIme employee has the highest total salary of about 34 million"
   ]
  },
  {
   "cell_type": "markdown",
   "id": "8d0fd3cb",
   "metadata": {},
   "source": [
    "# TOP 10 DEPARTMENT BY NO OF STAFF"
   ]
  },
  {
   "cell_type": "code",
   "execution_count": 26,
   "id": "06a05662",
   "metadata": {},
   "outputs": [
    {
     "data": {
      "text/html": [
       "<div>\n",
       "<style scoped>\n",
       "    .dataframe tbody tr th:only-of-type {\n",
       "        vertical-align: middle;\n",
       "    }\n",
       "\n",
       "    .dataframe tbody tr th {\n",
       "        vertical-align: top;\n",
       "    }\n",
       "\n",
       "    .dataframe thead th {\n",
       "        text-align: right;\n",
       "    }\n",
       "</style>\n",
       "<table border=\"1\" class=\"dataframe\">\n",
       "  <thead>\n",
       "    <tr style=\"text-align: right;\">\n",
       "      <th></th>\n",
       "      <th>Employee Name</th>\n",
       "      <th>Dept.</th>\n",
       "      <th>Hire Date</th>\n",
       "      <th>Status</th>\n",
       "      <th>Benefits</th>\n",
       "      <th>Compensation</th>\n",
       "      <th>Rating</th>\n",
       "      <th>Hire Year</th>\n",
       "    </tr>\n",
       "  </thead>\n",
       "  <tbody>\n",
       "    <tr>\n",
       "      <th>0</th>\n",
       "      <td>Page Lisa</td>\n",
       "      <td>ADC</td>\n",
       "      <td>2005-02-28</td>\n",
       "      <td>Full Time</td>\n",
       "      <td>DMR</td>\n",
       "      <td>60981</td>\n",
       "      <td>2</td>\n",
       "      <td>2005</td>\n",
       "    </tr>\n",
       "    <tr>\n",
       "      <th>1</th>\n",
       "      <td>Taylor Hector</td>\n",
       "      <td>ADC</td>\n",
       "      <td>2017-04-10</td>\n",
       "      <td>Full Time</td>\n",
       "      <td>DM</td>\n",
       "      <td>60915</td>\n",
       "      <td>1</td>\n",
       "      <td>2017</td>\n",
       "    </tr>\n",
       "    <tr>\n",
       "      <th>2</th>\n",
       "      <td>Dawson Jonathan</td>\n",
       "      <td>ADC</td>\n",
       "      <td>2013-04-23</td>\n",
       "      <td>Contract</td>\n",
       "      <td>DMR</td>\n",
       "      <td>48536</td>\n",
       "      <td>1</td>\n",
       "      <td>2013</td>\n",
       "    </tr>\n",
       "    <tr>\n",
       "      <th>3</th>\n",
       "      <td>Duran Brian</td>\n",
       "      <td>ADC</td>\n",
       "      <td>2018-10-18</td>\n",
       "      <td>Contract</td>\n",
       "      <td>DMR</td>\n",
       "      <td>57711</td>\n",
       "      <td>3</td>\n",
       "      <td>2018</td>\n",
       "    </tr>\n",
       "    <tr>\n",
       "      <th>4</th>\n",
       "      <td>Weber Larry</td>\n",
       "      <td>ADC</td>\n",
       "      <td>2014-02-17</td>\n",
       "      <td>Full Time</td>\n",
       "      <td>M</td>\n",
       "      <td>115547</td>\n",
       "      <td>5</td>\n",
       "      <td>2014</td>\n",
       "    </tr>\n",
       "  </tbody>\n",
       "</table>\n",
       "</div>"
      ],
      "text/plain": [
       "     Employee Name Dept.  Hire Date     Status Benefits  Compensation  Rating  \\\n",
       "0        Page Lisa   ADC 2005-02-28  Full Time      DMR         60981       2   \n",
       "1    Taylor Hector   ADC 2017-04-10  Full Time       DM         60915       1   \n",
       "2  Dawson Jonathan   ADC 2013-04-23   Contract      DMR         48536       1   \n",
       "3      Duran Brian   ADC 2018-10-18   Contract      DMR         57711       3   \n",
       "4      Weber Larry   ADC 2014-02-17  Full Time        M        115547       5   \n",
       "\n",
       "   Hire Year  \n",
       "0       2005  \n",
       "1       2017  \n",
       "2       2013  \n",
       "3       2018  \n",
       "4       2014  "
      ]
     },
     "execution_count": 26,
     "metadata": {},
     "output_type": "execute_result"
    }
   ],
   "source": [
    "hr.head()"
   ]
  },
  {
   "cell_type": "code",
   "execution_count": 27,
   "id": "ec3b254e",
   "metadata": {
    "scrolled": true
   },
   "outputs": [
    {
     "data": {
      "text/plain": [
       "Manufacturing             151\n",
       "Quality Control            94\n",
       "Account Management         88\n",
       "Quality Assurance          73\n",
       "Facilities/Engineering     59\n",
       "Marketing                  51\n",
       "IT                         44\n",
       "Product Development        38\n",
       "Sales                      21\n",
       "Creative                   19\n",
       "Name: Dept., dtype: int64"
      ]
     },
     "execution_count": 27,
     "metadata": {},
     "output_type": "execute_result"
    }
   ],
   "source": [
    "top= hr[\"Dept.\"].value_counts().nlargest(10)\n",
    "top"
   ]
  },
  {
   "cell_type": "code",
   "execution_count": 28,
   "id": "57ecf554",
   "metadata": {},
   "outputs": [
    {
     "data": {
      "image/png": "[encoded data removed]",
      "text/plain": [
       "<Figure size 640x480 with 1 Axes>"
      ]
     },
     "metadata": {},
     "output_type": "display_data"
    }
   ],
   "source": [
    "plt.title(\"Top 10 Department by no of staff\")\n",
    "hr[\"Dept.\"].value_counts().nlargest(10).plot(kind= \"pie\", autopct=\"%1.0f%%\");"
   ]
  },
  {
   "cell_type": "markdown",
   "id": "3ecf7b13",
   "metadata": {},
   "source": [
    "# TOP 10 DEPARTMENT BY TOTAL SALARY"
   ]
  },
  {
   "cell_type": "code",
   "execution_count": 29,
   "id": "797363d4",
   "metadata": {},
   "outputs": [
    {
     "data": {
      "text/html": [
       "<div>\n",
       "<style scoped>\n",
       "    .dataframe tbody tr th:only-of-type {\n",
       "        vertical-align: middle;\n",
       "    }\n",
       "\n",
       "    .dataframe tbody tr th {\n",
       "        vertical-align: top;\n",
       "    }\n",
       "\n",
       "    .dataframe thead th {\n",
       "        text-align: right;\n",
       "    }\n",
       "</style>\n",
       "<table border=\"1\" class=\"dataframe\">\n",
       "  <thead>\n",
       "    <tr style=\"text-align: right;\">\n",
       "      <th></th>\n",
       "      <th>Employee Name</th>\n",
       "      <th>Dept.</th>\n",
       "      <th>Hire Date</th>\n",
       "      <th>Status</th>\n",
       "      <th>Benefits</th>\n",
       "      <th>Compensation</th>\n",
       "      <th>Rating</th>\n",
       "      <th>Hire Year</th>\n",
       "    </tr>\n",
       "  </thead>\n",
       "  <tbody>\n",
       "    <tr>\n",
       "      <th>0</th>\n",
       "      <td>Page Lisa</td>\n",
       "      <td>ADC</td>\n",
       "      <td>2005-02-28</td>\n",
       "      <td>Full Time</td>\n",
       "      <td>DMR</td>\n",
       "      <td>60981</td>\n",
       "      <td>2</td>\n",
       "      <td>2005</td>\n",
       "    </tr>\n",
       "    <tr>\n",
       "      <th>1</th>\n",
       "      <td>Taylor Hector</td>\n",
       "      <td>ADC</td>\n",
       "      <td>2017-04-10</td>\n",
       "      <td>Full Time</td>\n",
       "      <td>DM</td>\n",
       "      <td>60915</td>\n",
       "      <td>1</td>\n",
       "      <td>2017</td>\n",
       "    </tr>\n",
       "    <tr>\n",
       "      <th>2</th>\n",
       "      <td>Dawson Jonathan</td>\n",
       "      <td>ADC</td>\n",
       "      <td>2013-04-23</td>\n",
       "      <td>Contract</td>\n",
       "      <td>DMR</td>\n",
       "      <td>48536</td>\n",
       "      <td>1</td>\n",
       "      <td>2013</td>\n",
       "    </tr>\n",
       "    <tr>\n",
       "      <th>3</th>\n",
       "      <td>Duran Brian</td>\n",
       "      <td>ADC</td>\n",
       "      <td>2018-10-18</td>\n",
       "      <td>Contract</td>\n",
       "      <td>DMR</td>\n",
       "      <td>57711</td>\n",
       "      <td>3</td>\n",
       "      <td>2018</td>\n",
       "    </tr>\n",
       "    <tr>\n",
       "      <th>4</th>\n",
       "      <td>Weber Larry</td>\n",
       "      <td>ADC</td>\n",
       "      <td>2014-02-17</td>\n",
       "      <td>Full Time</td>\n",
       "      <td>M</td>\n",
       "      <td>115547</td>\n",
       "      <td>5</td>\n",
       "      <td>2014</td>\n",
       "    </tr>\n",
       "  </tbody>\n",
       "</table>\n",
       "</div>"
      ],
      "text/plain": [
       "     Employee Name Dept.  Hire Date     Status Benefits  Compensation  Rating  \\\n",
       "0        Page Lisa   ADC 2005-02-28  Full Time      DMR         60981       2   \n",
       "1    Taylor Hector   ADC 2017-04-10  Full Time       DM         60915       1   \n",
       "2  Dawson Jonathan   ADC 2013-04-23   Contract      DMR         48536       1   \n",
       "3      Duran Brian   ADC 2018-10-18   Contract      DMR         57711       3   \n",
       "4      Weber Larry   ADC 2014-02-17  Full Time        M        115547       5   \n",
       "\n",
       "   Hire Year  \n",
       "0       2005  \n",
       "1       2017  \n",
       "2       2013  \n",
       "3       2018  \n",
       "4       2014  "
      ]
     },
     "execution_count": 29,
     "metadata": {},
     "output_type": "execute_result"
    }
   ],
   "source": [
    "hr.head()"
   ]
  },
  {
   "cell_type": "code",
   "execution_count": 30,
   "id": "7450cdc3",
   "metadata": {},
   "outputs": [
    {
     "data": {
      "text/plain": [
       "Manufacturing             151\n",
       "Quality Control            94\n",
       "Account Management         88\n",
       "Quality Assurance          73\n",
       "Facilities/Engineering     59\n",
       "Marketing                  51\n",
       "IT                         44\n",
       "Product Development        38\n",
       "Sales                      21\n",
       "Creative                   19\n",
       "Name: Dept., dtype: int64"
      ]
     },
     "execution_count": 30,
     "metadata": {},
     "output_type": "execute_result"
    }
   ],
   "source": [
    "top= hr[\"Dept.\"].value_counts().head(10)\n",
    "top"
   ]
  },
  {
   "cell_type": "code",
   "execution_count": 31,
   "id": "c205891f",
   "metadata": {
    "scrolled": true
   },
   "outputs": [
    {
     "data": {
      "image/png": "[encoded data removed]",
      "text/plain": [
       "<Figure size 640x480 with 1 Axes>"
      ]
     },
     "metadata": {},
     "output_type": "display_data"
    }
   ],
   "source": [
    "plt.title(\"Top 10 by Dept\")\n",
    "plt.xlabel(\"Count\")\n",
    "plt.ylabel(\"Dept.\")\n",
    "sns.barplot(y=top.index, x= top.values );"
   ]
  },
  {
   "cell_type": "markdown",
   "id": "3dcb0890",
   "metadata": {},
   "source": [
    "Manufacturing Deaprtment has the highest no of staff(151)."
   ]
  },
  {
   "cell_type": "markdown",
   "id": "4a441db4",
   "metadata": {},
   "source": [
    "# TOP 10 DEPARTMENT BY TOTAL SALARY"
   ]
  },
  {
   "cell_type": "code",
   "execution_count": 32,
   "id": "895a6fb5",
   "metadata": {},
   "outputs": [
    {
     "data": {
      "text/html": [
       "<div>\n",
       "<style scoped>\n",
       "    .dataframe tbody tr th:only-of-type {\n",
       "        vertical-align: middle;\n",
       "    }\n",
       "\n",
       "    .dataframe tbody tr th {\n",
       "        vertical-align: top;\n",
       "    }\n",
       "\n",
       "    .dataframe thead th {\n",
       "        text-align: right;\n",
       "    }\n",
       "</style>\n",
       "<table border=\"1\" class=\"dataframe\">\n",
       "  <thead>\n",
       "    <tr style=\"text-align: right;\">\n",
       "      <th></th>\n",
       "      <th>Employee Name</th>\n",
       "      <th>Dept.</th>\n",
       "      <th>Hire Date</th>\n",
       "      <th>Status</th>\n",
       "      <th>Benefits</th>\n",
       "      <th>Compensation</th>\n",
       "      <th>Rating</th>\n",
       "      <th>Hire Year</th>\n",
       "    </tr>\n",
       "  </thead>\n",
       "  <tbody>\n",
       "    <tr>\n",
       "      <th>0</th>\n",
       "      <td>Page Lisa</td>\n",
       "      <td>ADC</td>\n",
       "      <td>2005-02-28</td>\n",
       "      <td>Full Time</td>\n",
       "      <td>DMR</td>\n",
       "      <td>60981</td>\n",
       "      <td>2</td>\n",
       "      <td>2005</td>\n",
       "    </tr>\n",
       "    <tr>\n",
       "      <th>1</th>\n",
       "      <td>Taylor Hector</td>\n",
       "      <td>ADC</td>\n",
       "      <td>2017-04-10</td>\n",
       "      <td>Full Time</td>\n",
       "      <td>DM</td>\n",
       "      <td>60915</td>\n",
       "      <td>1</td>\n",
       "      <td>2017</td>\n",
       "    </tr>\n",
       "    <tr>\n",
       "      <th>2</th>\n",
       "      <td>Dawson Jonathan</td>\n",
       "      <td>ADC</td>\n",
       "      <td>2013-04-23</td>\n",
       "      <td>Contract</td>\n",
       "      <td>DMR</td>\n",
       "      <td>48536</td>\n",
       "      <td>1</td>\n",
       "      <td>2013</td>\n",
       "    </tr>\n",
       "    <tr>\n",
       "      <th>3</th>\n",
       "      <td>Duran Brian</td>\n",
       "      <td>ADC</td>\n",
       "      <td>2018-10-18</td>\n",
       "      <td>Contract</td>\n",
       "      <td>DMR</td>\n",
       "      <td>57711</td>\n",
       "      <td>3</td>\n",
       "      <td>2018</td>\n",
       "    </tr>\n",
       "    <tr>\n",
       "      <th>4</th>\n",
       "      <td>Weber Larry</td>\n",
       "      <td>ADC</td>\n",
       "      <td>2014-02-17</td>\n",
       "      <td>Full Time</td>\n",
       "      <td>M</td>\n",
       "      <td>115547</td>\n",
       "      <td>5</td>\n",
       "      <td>2014</td>\n",
       "    </tr>\n",
       "  </tbody>\n",
       "</table>\n",
       "</div>"
      ],
      "text/plain": [
       "     Employee Name Dept.  Hire Date     Status Benefits  Compensation  Rating  \\\n",
       "0        Page Lisa   ADC 2005-02-28  Full Time      DMR         60981       2   \n",
       "1    Taylor Hector   ADC 2017-04-10  Full Time       DM         60915       1   \n",
       "2  Dawson Jonathan   ADC 2013-04-23   Contract      DMR         48536       1   \n",
       "3      Duran Brian   ADC 2018-10-18   Contract      DMR         57711       3   \n",
       "4      Weber Larry   ADC 2014-02-17  Full Time        M        115547       5   \n",
       "\n",
       "   Hire Year  \n",
       "0       2005  \n",
       "1       2017  \n",
       "2       2013  \n",
       "3       2018  \n",
       "4       2014  "
      ]
     },
     "execution_count": 32,
     "metadata": {},
     "output_type": "execute_result"
    }
   ],
   "source": [
    "hr.head()"
   ]
  },
  {
   "cell_type": "code",
   "execution_count": 33,
   "id": "7d1e9057",
   "metadata": {},
   "outputs": [
    {
     "data": {
      "text/html": [
       "<div>\n",
       "<style scoped>\n",
       "    .dataframe tbody tr th:only-of-type {\n",
       "        vertical-align: middle;\n",
       "    }\n",
       "\n",
       "    .dataframe tbody tr th {\n",
       "        vertical-align: top;\n",
       "    }\n",
       "\n",
       "    .dataframe thead th {\n",
       "        text-align: right;\n",
       "    }\n",
       "</style>\n",
       "<table border=\"1\" class=\"dataframe\">\n",
       "  <thead>\n",
       "    <tr style=\"text-align: right;\">\n",
       "      <th></th>\n",
       "      <th>Dept.</th>\n",
       "      <th>Compensation</th>\n",
       "    </tr>\n",
       "  </thead>\n",
       "  <tbody>\n",
       "    <tr>\n",
       "      <th>0</th>\n",
       "      <td>ADC</td>\n",
       "      <td>60981</td>\n",
       "    </tr>\n",
       "    <tr>\n",
       "      <th>1</th>\n",
       "      <td>ADC</td>\n",
       "      <td>60915</td>\n",
       "    </tr>\n",
       "    <tr>\n",
       "      <th>2</th>\n",
       "      <td>ADC</td>\n",
       "      <td>48536</td>\n",
       "    </tr>\n",
       "    <tr>\n",
       "      <th>3</th>\n",
       "      <td>ADC</td>\n",
       "      <td>57711</td>\n",
       "    </tr>\n",
       "    <tr>\n",
       "      <th>4</th>\n",
       "      <td>ADC</td>\n",
       "      <td>115547</td>\n",
       "    </tr>\n",
       "    <tr>\n",
       "      <th>...</th>\n",
       "      <td>...</td>\n",
       "      <td>...</td>\n",
       "    </tr>\n",
       "    <tr>\n",
       "      <th>736</th>\n",
       "      <td>Research/Development</td>\n",
       "      <td>63477</td>\n",
       "    </tr>\n",
       "    <tr>\n",
       "      <th>737</th>\n",
       "      <td>Research/Development</td>\n",
       "      <td>27040</td>\n",
       "    </tr>\n",
       "    <tr>\n",
       "      <th>738</th>\n",
       "      <td>Research/Development</td>\n",
       "      <td>61444</td>\n",
       "    </tr>\n",
       "    <tr>\n",
       "      <th>739</th>\n",
       "      <td>Research/Development</td>\n",
       "      <td>110404</td>\n",
       "    </tr>\n",
       "    <tr>\n",
       "      <th>740</th>\n",
       "      <td>Research/Development</td>\n",
       "      <td>45127</td>\n",
       "    </tr>\n",
       "  </tbody>\n",
       "</table>\n",
       "<p>741 rows × 2 columns</p>\n",
       "</div>"
      ],
      "text/plain": [
       "                    Dept.  Compensation\n",
       "0                     ADC         60981\n",
       "1                     ADC         60915\n",
       "2                     ADC         48536\n",
       "3                     ADC         57711\n",
       "4                     ADC        115547\n",
       "..                    ...           ...\n",
       "736  Research/Development         63477\n",
       "737  Research/Development         27040\n",
       "738  Research/Development         61444\n",
       "739  Research/Development        110404\n",
       "740  Research/Development         45127\n",
       "\n",
       "[741 rows x 2 columns]"
      ]
     },
     "execution_count": 33,
     "metadata": {},
     "output_type": "execute_result"
    }
   ],
   "source": [
    "top_dc= hr[[\"Dept.\", \"Compensation\"]]\n",
    "top_dc"
   ]
  },
  {
   "cell_type": "code",
   "execution_count": 34,
   "id": "6b8a26c1",
   "metadata": {},
   "outputs": [
    {
     "name": "stderr",
     "output_type": "stream",
     "text": [
      "C:\\Users\\User\\AppData\\Local\\Temp\\ipykernel_1960\\851958508.py:1: FutureWarning: The default value of numeric_only in DataFrameGroupBy.sum is deprecated. In a future version, numeric_only will default to False. Either specify numeric_only or select only columns which should be valid for the function.\n",
      "  top_10 =top_dc.groupby(hr[\"Dept.\"]).sum().sort_values(\"Compensation\", ascending= False)\n"
     ]
    },
    {
     "data": {
      "text/html": [
       "<div>\n",
       "<style scoped>\n",
       "    .dataframe tbody tr th:only-of-type {\n",
       "        vertical-align: middle;\n",
       "    }\n",
       "\n",
       "    .dataframe tbody tr th {\n",
       "        vertical-align: top;\n",
       "    }\n",
       "\n",
       "    .dataframe thead th {\n",
       "        text-align: right;\n",
       "    }\n",
       "</style>\n",
       "<table border=\"1\" class=\"dataframe\">\n",
       "  <thead>\n",
       "    <tr style=\"text-align: right;\">\n",
       "      <th></th>\n",
       "      <th>Compensation</th>\n",
       "    </tr>\n",
       "    <tr>\n",
       "      <th>Dept.</th>\n",
       "      <th></th>\n",
       "    </tr>\n",
       "  </thead>\n",
       "  <tbody>\n",
       "    <tr>\n",
       "      <th>Manufacturing</th>\n",
       "      <td>8952636</td>\n",
       "    </tr>\n",
       "    <tr>\n",
       "      <th>Quality Control</th>\n",
       "      <td>5949181</td>\n",
       "    </tr>\n",
       "    <tr>\n",
       "      <th>Account Management</th>\n",
       "      <td>5703415</td>\n",
       "    </tr>\n",
       "    <tr>\n",
       "      <th>Quality Assurance</th>\n",
       "      <td>4682406</td>\n",
       "    </tr>\n",
       "    <tr>\n",
       "      <th>Facilities/Engineering</th>\n",
       "      <td>4014388</td>\n",
       "    </tr>\n",
       "    <tr>\n",
       "      <th>Marketing</th>\n",
       "      <td>3651753</td>\n",
       "    </tr>\n",
       "    <tr>\n",
       "      <th>IT</th>\n",
       "      <td>3224037</td>\n",
       "    </tr>\n",
       "    <tr>\n",
       "      <th>Product Development</th>\n",
       "      <td>2394401</td>\n",
       "    </tr>\n",
       "    <tr>\n",
       "      <th>Sales</th>\n",
       "      <td>1392541</td>\n",
       "    </tr>\n",
       "    <tr>\n",
       "      <th>Professional Training Group</th>\n",
       "      <td>1237221</td>\n",
       "    </tr>\n",
       "    <tr>\n",
       "      <th>Environmental Compliance</th>\n",
       "      <td>1146385</td>\n",
       "    </tr>\n",
       "    <tr>\n",
       "      <th>Creative</th>\n",
       "      <td>1129791</td>\n",
       "    </tr>\n",
       "    <tr>\n",
       "      <th>Training</th>\n",
       "      <td>1089735</td>\n",
       "    </tr>\n",
       "    <tr>\n",
       "      <th>Manufacturing Admin</th>\n",
       "      <td>562400</td>\n",
       "    </tr>\n",
       "    <tr>\n",
       "      <th>Green Building</th>\n",
       "      <td>521016</td>\n",
       "    </tr>\n",
       "    <tr>\n",
       "      <th>Major Mfg Projects</th>\n",
       "      <td>491405</td>\n",
       "    </tr>\n",
       "    <tr>\n",
       "      <th>Environmental Health/Safety</th>\n",
       "      <td>438809</td>\n",
       "    </tr>\n",
       "    <tr>\n",
       "      <th>Human Resources</th>\n",
       "      <td>348560</td>\n",
       "    </tr>\n",
       "    <tr>\n",
       "      <th>Research Center</th>\n",
       "      <td>347113</td>\n",
       "    </tr>\n",
       "    <tr>\n",
       "      <th>ADC</th>\n",
       "      <td>343690</td>\n",
       "    </tr>\n",
       "    <tr>\n",
       "      <th>Research/Development</th>\n",
       "      <td>307492</td>\n",
       "    </tr>\n",
       "  </tbody>\n",
       "</table>\n",
       "</div>"
      ],
      "text/plain": [
       "                             Compensation\n",
       "Dept.                                    \n",
       "Manufacturing                     8952636\n",
       "Quality Control                   5949181\n",
       "Account Management                5703415\n",
       "Quality Assurance                 4682406\n",
       "Facilities/Engineering            4014388\n",
       "Marketing                         3651753\n",
       "IT                                3224037\n",
       "Product Development               2394401\n",
       "Sales                             1392541\n",
       "Professional Training Group       1237221\n",
       "Environmental Compliance          1146385\n",
       "Creative                          1129791\n",
       "Training                          1089735\n",
       "Manufacturing Admin                562400\n",
       "Green Building                     521016\n",
       "Major Mfg Projects                 491405\n",
       "Environmental Health/Safety        438809\n",
       "Human Resources                    348560\n",
       "Research Center                    347113\n",
       "ADC                                343690\n",
       "Research/Development               307492"
      ]
     },
     "execution_count": 34,
     "metadata": {},
     "output_type": "execute_result"
    }
   ],
   "source": [
    "top_10 =top_dc.groupby(hr[\"Dept.\"]).sum().sort_values(\"Compensation\", ascending= False)\n",
    "top_10"
   ]
  },
  {
   "cell_type": "code",
   "execution_count": 35,
   "id": "202a74d3",
   "metadata": {
    "scrolled": true
   },
   "outputs": [
    {
     "data": {
      "image/png": "[encoded data removed]",
      "text/plain": [
       "<Figure size 640x480 with 1 Axes>"
      ]
     },
     "metadata": {},
     "output_type": "display_data"
    }
   ],
   "source": [
    "plt.title(\"Top 10 Department by Compensation\")\n",
    "sns.barplot(y= top_10.index, x= top_10[\"Compensation\"]);"
   ]
  },
  {
   "cell_type": "markdown",
   "id": "56f045b9",
   "metadata": {},
   "source": [
    "Manufacturing department has the total highest pay employee of over 8million dollars"
   ]
  },
  {
   "cell_type": "markdown",
   "id": "2f0899c7",
   "metadata": {},
   "source": [
    "# NO OF STAFFS HIRED OVER THE YEARS"
   ]
  },
  {
   "cell_type": "code",
   "execution_count": 36,
   "id": "c10097f5",
   "metadata": {
    "scrolled": false
   },
   "outputs": [
    {
     "data": {
      "text/html": [
       "<div>\n",
       "<style scoped>\n",
       "    .dataframe tbody tr th:only-of-type {\n",
       "        vertical-align: middle;\n",
       "    }\n",
       "\n",
       "    .dataframe tbody tr th {\n",
       "        vertical-align: top;\n",
       "    }\n",
       "\n",
       "    .dataframe thead th {\n",
       "        text-align: right;\n",
       "    }\n",
       "</style>\n",
       "<table border=\"1\" class=\"dataframe\">\n",
       "  <thead>\n",
       "    <tr style=\"text-align: right;\">\n",
       "      <th></th>\n",
       "      <th>Employee Name</th>\n",
       "      <th>Dept.</th>\n",
       "      <th>Hire Date</th>\n",
       "      <th>Status</th>\n",
       "      <th>Benefits</th>\n",
       "      <th>Compensation</th>\n",
       "      <th>Rating</th>\n",
       "      <th>Hire Year</th>\n",
       "    </tr>\n",
       "  </thead>\n",
       "  <tbody>\n",
       "    <tr>\n",
       "      <th>0</th>\n",
       "      <td>Page Lisa</td>\n",
       "      <td>ADC</td>\n",
       "      <td>2005-02-28</td>\n",
       "      <td>Full Time</td>\n",
       "      <td>DMR</td>\n",
       "      <td>60981</td>\n",
       "      <td>2</td>\n",
       "      <td>2005</td>\n",
       "    </tr>\n",
       "    <tr>\n",
       "      <th>1</th>\n",
       "      <td>Taylor Hector</td>\n",
       "      <td>ADC</td>\n",
       "      <td>2017-04-10</td>\n",
       "      <td>Full Time</td>\n",
       "      <td>DM</td>\n",
       "      <td>60915</td>\n",
       "      <td>1</td>\n",
       "      <td>2017</td>\n",
       "    </tr>\n",
       "    <tr>\n",
       "      <th>2</th>\n",
       "      <td>Dawson Jonathan</td>\n",
       "      <td>ADC</td>\n",
       "      <td>2013-04-23</td>\n",
       "      <td>Contract</td>\n",
       "      <td>DMR</td>\n",
       "      <td>48536</td>\n",
       "      <td>1</td>\n",
       "      <td>2013</td>\n",
       "    </tr>\n",
       "    <tr>\n",
       "      <th>3</th>\n",
       "      <td>Duran Brian</td>\n",
       "      <td>ADC</td>\n",
       "      <td>2018-10-18</td>\n",
       "      <td>Contract</td>\n",
       "      <td>DMR</td>\n",
       "      <td>57711</td>\n",
       "      <td>3</td>\n",
       "      <td>2018</td>\n",
       "    </tr>\n",
       "    <tr>\n",
       "      <th>4</th>\n",
       "      <td>Weber Larry</td>\n",
       "      <td>ADC</td>\n",
       "      <td>2014-02-17</td>\n",
       "      <td>Full Time</td>\n",
       "      <td>M</td>\n",
       "      <td>115547</td>\n",
       "      <td>5</td>\n",
       "      <td>2014</td>\n",
       "    </tr>\n",
       "  </tbody>\n",
       "</table>\n",
       "</div>"
      ],
      "text/plain": [
       "     Employee Name Dept.  Hire Date     Status Benefits  Compensation  Rating  \\\n",
       "0        Page Lisa   ADC 2005-02-28  Full Time      DMR         60981       2   \n",
       "1    Taylor Hector   ADC 2017-04-10  Full Time       DM         60915       1   \n",
       "2  Dawson Jonathan   ADC 2013-04-23   Contract      DMR         48536       1   \n",
       "3      Duran Brian   ADC 2018-10-18   Contract      DMR         57711       3   \n",
       "4      Weber Larry   ADC 2014-02-17  Full Time        M        115547       5   \n",
       "\n",
       "   Hire Year  \n",
       "0       2005  \n",
       "1       2017  \n",
       "2       2013  \n",
       "3       2018  \n",
       "4       2014  "
      ]
     },
     "execution_count": 36,
     "metadata": {},
     "output_type": "execute_result"
    }
   ],
   "source": [
    "hr.head()"
   ]
  },
  {
   "cell_type": "code",
   "execution_count": 37,
   "id": "812c9f9c",
   "metadata": {
    "scrolled": true
   },
   "outputs": [
    {
     "data": {
      "text/plain": [
       "2013    92\n",
       "2016    92\n",
       "2017    75\n",
       "2014    72\n",
       "2005    66\n",
       "2012    63\n",
       "2004    63\n",
       "2018    53\n",
       "2006    39\n",
       "2015    30\n",
       "2007    26\n",
       "2009    25\n",
       "2008    20\n",
       "2010    15\n",
       "2019     6\n",
       "2011     4\n",
       "Name: Hire Year, dtype: int64"
      ]
     },
     "execution_count": 37,
     "metadata": {},
     "output_type": "execute_result"
    }
   ],
   "source": [
    "hr_year= hr[\"Hire Year\"].value_counts().sort_values(ascending= False)\n",
    "hr_year"
   ]
  },
  {
   "cell_type": "code",
   "execution_count": 38,
   "id": "39fd3fa0",
   "metadata": {},
   "outputs": [
    {
     "data": {
      "image/png": "[encoded data removed]",
      "text/plain": [
       "<Figure size 640x480 with 1 Axes>"
      ]
     },
     "metadata": {},
     "output_type": "display_data"
    }
   ],
   "source": [
    "plt.title(\"No of Staff Hired over the Years\")\n",
    "sns.barplot(x=hr_year.index, y= hr_year.values,order= hr_year.index);"
   ]
  },
  {
   "cell_type": "markdown",
   "id": "0082b311",
   "metadata": {},
   "source": [
    "Highest no of staff was highed in the year 2013 and 2016 (92 staffs). The no of staff that was hired in year 2011 was low(4 staffs)"
   ]
  },
  {
   "cell_type": "code",
   "execution_count": 39,
   "id": "f3311b76",
   "metadata": {
    "scrolled": true
   },
   "outputs": [
    {
     "name": "stderr",
     "output_type": "stream",
     "text": [
      "C:\\Users\\User\\AppData\\Local\\Temp\\ipykernel_1960\\1396818047.py:1: FutureWarning: The default value of numeric_only in DataFrame.corr is deprecated. In a future version, it will default to False. Select only valid columns or specify the value of numeric_only to silence this warning.\n",
      "  sns.heatmap(hr.corr(), cbar= True, linewidths= 0.5);\n"
     ]
    },
    {
     "data": {
      "image/png": "[encoded data removed]",
      "text/plain": [
       "<Figure size 640x480 with 2 Axes>"
      ]
     },
     "metadata": {},
     "output_type": "display_data"
    }
   ],
   "source": [
    "sns.heatmap(hr.corr(), cbar= True, linewidths= 0.5);"
   ]
  },
  {
   "cell_type": "markdown",
   "id": "44e9f889",
   "metadata": {},
   "source": [
    "# CONCLUSION\n",
    "From all the analysis above, it can be concluded that:\n",
    "Half of the employees(50%) works full time.\n",
    "The Full TIme employee has the highest total salary of about 34 million\n",
    "Manufacturing department has the total highest pay employee of over 8million dollars\n",
    "Highest no of staff was highed in the year 2013 and 2016 (92 staffs). The no of staff that was hired in year 2011 was low(4 staffs)"
   ]
  }
 ],
 "metadata": {
  "kernelspec": {
   "display_name": "Python 3 (ipykernel)",
   "language": "python",
   "name": "python3"
  },
  "language_info": {
   "codemirror_mode": {
    "name": "ipython",
    "version": 3
   },
   "file_extension": ".py",
   "mimetype": "text/x-python",
   "name": "python",
   "nbconvert_exporter": "python",
   "pygments_lexer": "ipython3",
   "version": "3.11.2"
  }
 },
 "nbformat": 4,
 "nbformat_minor": 5
}
